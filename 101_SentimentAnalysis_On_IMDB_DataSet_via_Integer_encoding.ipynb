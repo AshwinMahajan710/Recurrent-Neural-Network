{
  "nbformat": 4,
  "nbformat_minor": 0,
  "metadata": {
    "colab": {
      "provenance": [],
      "authorship_tag": "ABX9TyOUrwEQkb6peQIARe2/Opqk",
      "include_colab_link": true
    },
    "kernelspec": {
      "name": "python3",
      "display_name": "Python 3"
    },
    "language_info": {
      "name": "python"
    }
  },
  "cells": [
    {
      "cell_type": "markdown",
      "metadata": {
        "id": "view-in-github",
        "colab_type": "text"
      },
      "source": [
        "<a href=\"https://colab.research.google.com/github/AshwinMahajan710/Recurrent-Neural-Network/blob/main/101_SentimentAnalysis_On_IMDB_DataSet_via_Integer_encoding.ipynb\" target=\"_parent\"><img src=\"https://colab.research.google.com/assets/colab-badge.svg\" alt=\"Open In Colab\"/></a>"
      ]
    },
    {
      "cell_type": "code",
      "execution_count": 57,
      "metadata": {
        "id": "loQNs3wUTi_k"
      },
      "outputs": [],
      "source": [
        "#  Sentiment analysis on the imdb dataset of keras\n",
        "from keras.datasets import imdb\n",
        "from keras import Sequential\n",
        "from keras.layers import Dense,SimpleRNN,Embedding,Flatten;"
      ]
    },
    {
      "cell_type": "code",
      "source": [
        "# downloading data\n",
        "(X_train,y_train),(X_test,y_test) = imdb.load_data()"
      ],
      "metadata": {
        "id": "WObEP5pBT8ht"
      },
      "execution_count": 58,
      "outputs": []
    },
    {
      "cell_type": "code",
      "source": [
        "# It is already encoded data\n",
        "print(X_train.shape)\n",
        "print(X_test.shape)"
      ],
      "metadata": {
        "colab": {
          "base_uri": "https://localhost:8080/"
        },
        "id": "LQPpL1njUq_r",
        "outputId": "6eb05986-b862-468b-f28b-1248a3f6f1f8"
      },
      "execution_count": 59,
      "outputs": [
        {
          "output_type": "stream",
          "name": "stdout",
          "text": [
            "(25000,)\n",
            "(25000,)\n"
          ]
        }
      ]
    },
    {
      "cell_type": "code",
      "source": [
        "len(X_train[0]) # We can get size of particular sentences of can see its encoded form if we want to"
      ],
      "metadata": {
        "colab": {
          "base_uri": "https://localhost:8080/"
        },
        "id": "XGbzvwdLV9ad",
        "outputId": "10a831be-c457-46b9-e6e7-76e8ef535532"
      },
      "execution_count": 60,
      "outputs": [
        {
          "output_type": "execute_result",
          "data": {
            "text/plain": [
              "218"
            ]
          },
          "metadata": {},
          "execution_count": 60
        }
      ]
    },
    {
      "cell_type": "code",
      "source": [
        "# all the sentences we have are of different length so lets first padding them\n",
        "X_train = pad_sequences(X_train,padding='post',maxlen = 50) # we can trim dataset by using 'maxlength=50' parameter after post as well\n",
        "X_test = pad_sequences(X_test,padding='post',maxlen = 50)"
      ],
      "metadata": {
        "id": "S5WO9x81WdEV"
      },
      "execution_count": 67,
      "outputs": []
    },
    {
      "cell_type": "code",
      "source": [
        "# New X_train shape\n",
        "X_train.shape # Similarly can get X_test"
      ],
      "metadata": {
        "colab": {
          "base_uri": "https://localhost:8080/"
        },
        "id": "h1lIwLIFW0Db",
        "outputId": "4b62af55-eb0f-491e-9b8b-e0d3cddb2ef1"
      },
      "execution_count": 68,
      "outputs": [
        {
          "output_type": "execute_result",
          "data": {
            "text/plain": [
              "(25000, 50)"
            ]
          },
          "metadata": {},
          "execution_count": 68
        }
      ]
    },
    {
      "cell_type": "code",
      "source": [
        "model = Sequential()\n",
        "\n",
        "model.add(SimpleRNN(32,input_shape=(50,1),return_sequences = False)) # return_sequences=True, the SimpleRNN layer would return the output for each timestep in the sequence that programmer can see after each timestep\n",
        "model.add(Dense(1,activation='sigmoid'))\n",
        "\n",
        "model.summary() # For one timestep 32w + 32b + 32*32 w (SimpleRnn Layer)"
      ],
      "metadata": {
        "colab": {
          "base_uri": "https://localhost:8080/"
        },
        "id": "6-EWulOEW-R6",
        "outputId": "2ab0b886-a79b-4af7-a143-6f6f1fc8ec3e"
      },
      "execution_count": 71,
      "outputs": [
        {
          "output_type": "stream",
          "name": "stdout",
          "text": [
            "Model: \"sequential_4\"\n",
            "_________________________________________________________________\n",
            " Layer (type)                Output Shape              Param #   \n",
            "=================================================================\n",
            " simple_rnn_4 (SimpleRNN)    (None, 32)                1088      \n",
            "                                                                 \n",
            " dense_4 (Dense)             (None, 1)                 33        \n",
            "                                                                 \n",
            "=================================================================\n",
            "Total params: 1121 (4.38 KB)\n",
            "Trainable params: 1121 (4.38 KB)\n",
            "Non-trainable params: 0 (0.00 Byte)\n",
            "_________________________________________________________________\n"
          ]
        }
      ]
    },
    {
      "cell_type": "code",
      "source": [
        "# Maybe model accuracy is not good but test model major goal was to learn how model works\n",
        "model.compile(loss='binary_crossentropy',optimizer = 'adam',metrics= ['accuracy'])\n",
        "model.fit(X_train,y_train,epochs=5,validation_data=(X_test,y_test))"
      ],
      "metadata": {
        "colab": {
          "base_uri": "https://localhost:8080/"
        },
        "id": "C-pBd7Ynl2d7",
        "outputId": "f09164f2-cbf3-48b9-f3e6-cab67b972f2b"
      },
      "execution_count": 72,
      "outputs": [
        {
          "output_type": "stream",
          "name": "stdout",
          "text": [
            "Epoch 1/5\n",
            "782/782 [==============================] - 15s 18ms/step - loss: 0.6933 - accuracy: 0.5030 - val_loss: 0.6932 - val_accuracy: 0.5000\n",
            "Epoch 2/5\n",
            "782/782 [==============================] - 10s 13ms/step - loss: 0.6933 - accuracy: 0.5008 - val_loss: 0.6932 - val_accuracy: 0.5000\n",
            "Epoch 3/5\n",
            "782/782 [==============================] - 11s 14ms/step - loss: 0.6933 - accuracy: 0.4949 - val_loss: 0.6931 - val_accuracy: 0.5000\n",
            "Epoch 4/5\n",
            "782/782 [==============================] - 13s 17ms/step - loss: 0.6932 - accuracy: 0.5010 - val_loss: 0.6931 - val_accuracy: 0.5000\n",
            "Epoch 5/5\n",
            "782/782 [==============================] - 11s 14ms/step - loss: 0.6932 - accuracy: 0.4992 - val_loss: 0.6932 - val_accuracy: 0.5000\n"
          ]
        },
        {
          "output_type": "execute_result",
          "data": {
            "text/plain": [
              "<keras.src.callbacks.History at 0x787c622b3940>"
            ]
          },
          "metadata": {},
          "execution_count": 72
        }
      ]
    }
  ]
}