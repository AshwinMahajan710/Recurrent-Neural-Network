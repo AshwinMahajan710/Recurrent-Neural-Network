{
  "nbformat": 4,
  "nbformat_minor": 0,
  "metadata": {
    "colab": {
      "provenance": [],
      "authorship_tag": "ABX9TyNPgX2nKRIvskpZt2hNBpVU",
      "include_colab_link": true
    },
    "kernelspec": {
      "name": "python3",
      "display_name": "Python 3"
    },
    "language_info": {
      "name": "python"
    }
  },
  "cells": [
    {
      "cell_type": "markdown",
      "metadata": {
        "id": "view-in-github",
        "colab_type": "text"
      },
      "source": [
        "<a href=\"https://colab.research.google.com/github/AshwinMahajan710/Recurrent-Neural-Network/blob/main/01_RNN_Architecture_Demo.ipynb\" target=\"_parent\"><img src=\"https://colab.research.google.com/assets/colab-badge.svg\" alt=\"Open In Colab\"/></a>"
      ]
    },
    {
      "cell_type": "code",
      "execution_count": 1,
      "metadata": {
        "id": "loQNs3wUTi_k"
      },
      "outputs": [],
      "source": [
        "# Sequential for sequential model and dense for dense layer\n",
        "from keras import Sequential\n",
        "from keras.layers import Dense,SimpleRNN"
      ]
    },
    {
      "cell_type": "code",
      "source": [
        "# Model Architecture and explanation\n",
        "model = Sequential() # Sequential Model :- A linear stack of layers.\n",
        "model.add(SimpleRNN(3,input_shape=(4,5))) # adds a SimpleRNN layer of 3 Nodes , 4 Timesteps and 5 input fetures = 5\n",
        "model.add(Dense(1,activation='sigmoid')) # adds a dense layer(fully connected layer) / Sigmoid activation function because we are working on binary classification problem\n",
        "model.summary() # summary of model"
      ],
      "metadata": {
        "colab": {
          "base_uri": "https://localhost:8080/"
        },
        "id": "WObEP5pBT8ht",
        "outputId": "55f92702-9ab3-454e-81c8-341e3e604f9f"
      },
      "execution_count": 3,
      "outputs": [
        {
          "output_type": "stream",
          "name": "stdout",
          "text": [
            "Model: \"sequential_1\"\n",
            "_________________________________________________________________\n",
            " Layer (type)                Output Shape              Param #   \n",
            "=================================================================\n",
            " simple_rnn_1 (SimpleRNN)    (None, 3)                 27        \n",
            "                                                                 \n",
            " dense_1 (Dense)             (None, 1)                 4         \n",
            "                                                                 \n",
            "=================================================================\n",
            "Total params: 31 (124.00 Byte)\n",
            "Trainable params: 31 (124.00 Byte)\n",
            "Non-trainable params: 0 (0.00 Byte)\n",
            "_________________________________________________________________\n"
          ]
        }
      ]
    },
    {
      "cell_type": "code",
      "source": [
        "# Weight checking\n",
        "print(model.get_weights()[0].shape) # Shape 5 * 3 because 5 input feature and 3 hidden layer nodes\n",
        "model.get_weights()[0] # All initialized weights in 1st layer"
      ],
      "metadata": {
        "colab": {
          "base_uri": "https://localhost:8080/"
        },
        "id": "LQPpL1njUq_r",
        "outputId": "bde6bf48-6d43-4368-ecb4-d0bfa8f0c7da"
      },
      "execution_count": 7,
      "outputs": [
        {
          "output_type": "stream",
          "name": "stdout",
          "text": [
            "(5, 3)\n"
          ]
        },
        {
          "output_type": "execute_result",
          "data": {
            "text/plain": [
              "array([[-0.07565218, -0.8128752 ,  0.4109028 ],\n",
              "       [-0.02982473, -0.04555118,  0.5620839 ],\n",
              "       [-0.148673  , -0.3396322 ,  0.59600407],\n",
              "       [ 0.72441405, -0.01975214,  0.8428088 ],\n",
              "       [ 0.8349622 , -0.21361482, -0.16107279]], dtype=float32)"
            ]
          },
          "metadata": {},
          "execution_count": 7
        }
      ]
    },
    {
      "cell_type": "code",
      "source": [
        "# Weight checking\n",
        "print(model.get_weights()[1].shape) # Shape 3*3 becasuse 3 output from each hidden layer node and feeding to each other hidden layer(in total 3)\n",
        "model.get_weights()[1] # All initialized weights in 1st layer"
      ],
      "metadata": {
        "colab": {
          "base_uri": "https://localhost:8080/"
        },
        "id": "XGbzvwdLV9ad",
        "outputId": "fe579675-24bd-4afa-e6af-e6b385e7ec8d"
      },
      "execution_count": 9,
      "outputs": [
        {
          "output_type": "stream",
          "name": "stdout",
          "text": [
            "(3, 3)\n"
          ]
        },
        {
          "output_type": "execute_result",
          "data": {
            "text/plain": [
              "array([[ 0.3478768 ,  0.5987387 , -0.7214526 ],\n",
              "       [ 0.8670426 ,  0.08729634,  0.49052665],\n",
              "       [ 0.3566775 , -0.7961729 , -0.4887636 ]], dtype=float32)"
            ]
          },
          "metadata": {},
          "execution_count": 9
        }
      ]
    },
    {
      "cell_type": "code",
      "source": [
        "# bias checking\n",
        "print(model.get_weights()[2].shape) # 3 bias\n",
        "model.get_weights()[2] # All initialized bias in 2nd layer"
      ],
      "metadata": {
        "colab": {
          "base_uri": "https://localhost:8080/"
        },
        "id": "S5WO9x81WdEV",
        "outputId": "ac3d1986-a5af-4430-d8af-cbc15018cdf9"
      },
      "execution_count": 11,
      "outputs": [
        {
          "output_type": "stream",
          "name": "stdout",
          "text": [
            "(3,)\n"
          ]
        },
        {
          "output_type": "execute_result",
          "data": {
            "text/plain": [
              "array([0., 0., 0.], dtype=float32)"
            ]
          },
          "metadata": {},
          "execution_count": 11
        }
      ]
    },
    {
      "cell_type": "code",
      "source": [
        "# Weight checking\n",
        "print(model.get_weights()[3].shape) # Shape 3 * 1 because 3 hidden layer nodes output and 1 output node\n",
        "model.get_weights()[3] # All initialized weights in 3st layer"
      ],
      "metadata": {
        "colab": {
          "base_uri": "https://localhost:8080/"
        },
        "id": "h1lIwLIFW0Db",
        "outputId": "5206bf7e-926a-4536-e0b1-7ac860f11824"
      },
      "execution_count": 13,
      "outputs": [
        {
          "output_type": "stream",
          "name": "stdout",
          "text": [
            "(3, 1)\n"
          ]
        },
        {
          "output_type": "execute_result",
          "data": {
            "text/plain": [
              "array([[0.95208514],\n",
              "       [0.8655132 ],\n",
              "       [0.9496354 ]], dtype=float32)"
            ]
          },
          "metadata": {},
          "execution_count": 13
        }
      ]
    },
    {
      "cell_type": "code",
      "source": [
        "# Weight checking\n",
        "print(model.get_weights()[4].shape) # Single bias\n",
        "model.get_weights()[4] # All initialized weights in 1st layer"
      ],
      "metadata": {
        "colab": {
          "base_uri": "https://localhost:8080/"
        },
        "id": "6-EWulOEW-R6",
        "outputId": "efa0420b-14bd-4c7d-d2d0-2053784a7356"
      },
      "execution_count": 14,
      "outputs": [
        {
          "output_type": "stream",
          "name": "stdout",
          "text": [
            "(1,)\n"
          ]
        },
        {
          "output_type": "execute_result",
          "data": {
            "text/plain": [
              "array([0.], dtype=float32)"
            ]
          },
          "metadata": {},
          "execution_count": 14
        }
      ]
    }
  ]
}